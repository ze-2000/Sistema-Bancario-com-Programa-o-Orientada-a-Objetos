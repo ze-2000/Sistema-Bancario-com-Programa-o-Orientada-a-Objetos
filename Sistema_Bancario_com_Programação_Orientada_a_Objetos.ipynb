{
  "nbformat": 4,
  "nbformat_minor": 0,
  "metadata": {
    "colab": {
      "provenance": [],
      "authorship_tag": "ABX9TyP+2r2vuldsAmr9+3eQMFHy",
      "include_colab_link": true
    },
    "kernelspec": {
      "name": "python3",
      "display_name": "Python 3"
    },
    "language_info": {
      "name": "python"
    }
  },
  "cells": [
    {
      "cell_type": "markdown",
      "metadata": {
        "id": "view-in-github",
        "colab_type": "text"
      },
      "source": [
        "<a href=\"https://colab.research.google.com/github/ze-2000/Sistema-Bancario-com-Programa-o-Orientada-a-Objetos/blob/main/Sistema_Bancario_com_Programa%C3%A7%C3%A3o_Orientada_a_Objetos.ipynb\" target=\"_parent\"><img src=\"https://colab.research.google.com/assets/colab-badge.svg\" alt=\"Open In Colab\"/></a>"
      ]
    },
    {
      "cell_type": "markdown",
      "source": [
        "Desenvolvimento do Sistema Bancário com POO"
      ],
      "metadata": {
        "id": "WhW-zbLuYweM"
      }
    },
    {
      "cell_type": "markdown",
      "source": [
        "Etapa 1: Criar a Classe ContaBancaria"
      ],
      "metadata": {
        "id": "hNa6VwLBY0G7"
      }
    },
    {
      "cell_type": "code",
      "execution_count": null,
      "metadata": {
        "id": "KBYhXfaKX7lo"
      },
      "outputs": [],
      "source": [
        "class ContaBancaria:\n",
        "    def __init__(self, saldo_inicial=0, extrato_inicial=None):\n",
        "        self._numero_conta = id(self)  # Simples identificador único\n",
        "        self.saldo = saldo_inicial\n",
        "        self.extrato = extrato_inicial if extrato_inicial else []\n"
      ]
    },
    {
      "cell_type": "markdown",
      "source": [
        "Etapa 2: Métodos de Operações Bancárias"
      ],
      "metadata": {
        "id": "hyW8M26xY2Wi"
      }
    },
    {
      "cell_type": "code",
      "source": [
        "from datetime import datetime\n",
        "\n",
        "    def consultar_saldo(self):\n",
        "        print(f\"Saldo atual: R$ {self.saldo:.2f}\")\n",
        "\n",
        "    def depositar(self, valor):\n",
        "        if valor > 0:\n",
        "            self.saldo += valor\n",
        "            self.extrato.append({\n",
        "                \"data\": datetime.now().isoformat(),\n",
        "                \"tipo\": \"Depósito\",\n",
        "                \"valor\": valor\n",
        "            })\n",
        "            print(\"Depósito realizado com sucesso.\")\n",
        "        else:\n",
        "            print(\"Valor inválido para depósito.\")\n",
        "\n",
        "    def sacar(self, valor):\n",
        "        if valor > 0 and valor <= self.saldo:\n",
        "            self.saldo -= valor\n",
        "            self.extrato.append({\n",
        "                \"data\": datetime.now().isoformat(),\n",
        "                \"tipo\": \"Saque\",\n",
        "                \"valor\": valor\n",
        "            })\n",
        "            print(\"Saque realizado com sucesso.\")\n",
        "        else:\n",
        "            print(\"Saldo insuficiente ou valor inválido.\")\n"
      ],
      "metadata": {
        "id": "GgLeR1KXY4Uj"
      },
      "execution_count": null,
      "outputs": []
    },
    {
      "cell_type": "markdown",
      "source": [
        "Etapa 3: Extrato e Transferência"
      ],
      "metadata": {
        "id": "0GQDqpHgY5Kj"
      }
    },
    {
      "cell_type": "code",
      "source": [
        "    def exibir_extrato(self):\n",
        "        print(\"Extrato da conta:\")\n",
        "        for transacao in self.extrato:\n",
        "            print(f\"{transacao['data']} - {transacao['tipo']}: R$ {transacao['valor']:.2f}\")\n",
        "\n",
        "    def transferir(self, conta_destino, valor):\n",
        "        if valor > 0 and valor <= self.saldo:\n",
        "            self.saldo -= valor\n",
        "            conta_destino.depositar(valor)\n",
        "            self.extrato.append({\n",
        "                \"data\": datetime.now().isoformat(),\n",
        "                \"tipo\": \"Transferência enviada\",\n",
        "                \"valor\": valor\n",
        "            })\n",
        "            print(\"Transferência realizada com sucesso.\")\n",
        "        else:\n",
        "            print(\"Saldo insuficiente ou valor inválido.\")\n"
      ],
      "metadata": {
        "id": "n5GA_KfuY7pD"
      },
      "execution_count": null,
      "outputs": []
    },
    {
      "cell_type": "markdown",
      "source": [
        "Etapa 4: Persistência com JSON"
      ],
      "metadata": {
        "id": "3sVMeL2eY8c7"
      }
    },
    {
      "cell_type": "code",
      "source": [
        "import json\n",
        "\n",
        "def salvar_dados(conta, filename=\"banco_dados.json\"):\n",
        "    dados = {\n",
        "        \"saldo\": conta.saldo,\n",
        "        \"extrato\": conta.extrato\n",
        "    }\n",
        "    with open(filename, \"w\") as f:\n",
        "        json.dump(dados, f)\n",
        "\n",
        "def carregar_dados(filename=\"banco_dados.json\"):\n",
        "    try:\n",
        "        with open(filename, \"r\") as f:\n",
        "            dados = json.load(f)\n",
        "            return ContaBancaria(dados[\"saldo\"], dados[\"extrato\"])\n",
        "    except FileNotFoundError:\n",
        "        return ContaBancaria()\n"
      ],
      "metadata": {
        "id": "AHz4_rWmY-ON"
      },
      "execution_count": null,
      "outputs": []
    },
    {
      "cell_type": "markdown",
      "source": [
        "Etapa 5: Loop Principal"
      ],
      "metadata": {
        "id": "glWISsHrY_XD"
      }
    },
    {
      "cell_type": "code",
      "source": [
        "def menu():\n",
        "    print(\"\\n1 - Consultar saldo\")\n",
        "    print(\"2 - Depositar\")\n",
        "    print(\"3 - Sacar\")\n",
        "    print(\"4 - Exibir extrato\")\n",
        "    print(\"5 - Sair\")\n",
        "\n",
        "minha_conta = carregar_dados()\n",
        "\n",
        "while True:\n",
        "    menu()\n",
        "    try:\n",
        "        opcao = int(input(\"Escolha uma opção: \"))\n",
        "        if opcao == 1:\n",
        "            minha_conta.consultar_saldo()\n",
        "        elif opcao == 2:\n",
        "            valor = float(input(\"Valor do depósito: \"))\n",
        "            minha_conta.depositar(valor)\n",
        "        elif opcao == 3:\n",
        "            valor = float(input(\"Valor do saque: \"))\n",
        "            minha_conta.sacar(valor)\n",
        "        elif opcao == 4:\n",
        "            minha_conta.exibir_extrato()\n",
        "        elif opcao == 5:\n",
        "            salvar_dados(minha_conta)\n",
        "            print(\"Saindo... Dados salvos.\")\n",
        "            break\n",
        "        else:\n",
        "            print(\"Opção inválida.\")\n",
        "    except ValueError:\n",
        "        print(\"Entrada inválida. Digite um número.\")\n"
      ],
      "metadata": {
        "id": "x1uEdbJXZAkj"
      },
      "execution_count": null,
      "outputs": []
    }
  ]
}